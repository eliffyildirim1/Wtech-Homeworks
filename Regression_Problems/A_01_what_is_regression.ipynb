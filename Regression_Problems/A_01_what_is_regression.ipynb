{
 "cells": [
  {
   "cell_type": "markdown",
   "metadata": {},
   "source": [
    "# <font color=blue>Assignments for \"What is Regression\"</font>"
   ]
  },
  {
   "cell_type": "markdown",
   "metadata": {},
   "source": [
    "**(1)** Let's assume that you have World Bank data on financial, economic and social indicators for several countries. You want to measure the factors that affect the level of development in these countries. To this end, you decide to use per capita income as a proxy for the development level, which is defined as the national income divided by the population. You want to use some features in your dataset to predict per capita income. Is this task a classification or a regression task? Why? "
   ]
  },
  {
   "cell_type": "markdown",
   "metadata": {},
   "source": [
    "This task is a regression problem. Since the result of the per capita income estimates is a continuous value and the target variable in regression will be a continuous value, we can call it a regression problem."
   ]
  },
  {
   "cell_type": "markdown",
   "metadata": {},
   "source": [
    "**(2)** Which of the following arguments are false and why?\n",
    "    - OLS is a special type of linear regression models. \n",
    "    - Regression models become useless if they don’t meet the assumptions of linear regression. \n",
    "    - Estimation and prediction are the same thing in the context of linear regression models.\n",
    "    - Linear regression model is only one kind of regression models. Regression problems can also be solved with other kind of models like Support Vector Machines or Random Forests."
   ]
  },
  {
   "cell_type": "markdown",
   "metadata": {},
   "source": [
    "\"Estimation and prediction are the same thing in the context of linear regression models\" this answer is wrong. Because while estimation model is to estimate, prediction is to estimate the value that is not in the model we created."
   ]
  },
  {
   "cell_type": "markdown",
   "metadata": {},
   "source": [
    "**(3)** Assume that your project manager wants you to discover which free services your company offers make your customers buy more of your paid services. Formulate this task as a regression problem and write down the potential outcome and features that you’d like to work on."
   ]
  },
  {
   "cell_type": "markdown",
   "metadata": {},
   "source": [
    "fter the previous steps, we get some values for the coefficients of the features that capture the relationship between the features and the target variable. We can quantify the relationship between the target variable and each feature using the estimated coefficients. \n",
    "\n",
    "- Pd services=bo+b1*free services\n",
    "\n",
    "b0 : bias term\n",
    "b1 : coefficients\n",
    "free services : feature\n",
    "pd services : target\n",
    "    "
   ]
  },
  {
   "cell_type": "code",
   "execution_count": null,
   "metadata": {},
   "outputs": [],
   "source": []
  }
 ],
 "metadata": {
  "kernelspec": {
   "display_name": "Python 3",
   "language": "python",
   "name": "python3"
  },
  "language_info": {
   "codemirror_mode": {
    "name": "ipython",
    "version": 3
   },
   "file_extension": ".py",
   "mimetype": "text/x-python",
   "name": "python",
   "nbconvert_exporter": "python",
   "pygments_lexer": "ipython3",
   "version": "3.7.6"
  }
 },
 "nbformat": 4,
 "nbformat_minor": 4
}
