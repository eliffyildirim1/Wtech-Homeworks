{
 "cells": [
  {
   "cell_type": "markdown",
   "metadata": {},
   "source": [
    "# <font color=blue>Assignments for \"What is Exploratory Data Analysis?\"</font>"
   ]
  },
  {
   "cell_type": "markdown",
   "metadata": {},
   "source": [
    "**(1)** What is the purpose the data exploration?"
   ]
  },
  {
   "cell_type": "markdown",
   "metadata": {},
   "source": [
    "  Data exploration purpose investigating data to discover relationships between different features and patterns in the data.The better we understand our data, the more useful we can identify and extract the most useful features, which boost the performance of the model.The main tools we use at this stage are statistics and visualization techniques."
   ]
  },
  {
   "cell_type": "markdown",
   "metadata": {},
   "source": [
    "**(2)** Suppose you are working on a dataset containing customer reviews of an e-commerce company's products. Customer reviews collected through the company's website are rated between 1 and 5 depending on whether the content is positive or negative.\n",
    "    - What kind of problems do you expect to encounter in this raw data?\n",
    "    - What kind of problems do you expect to encounter in this raw data?\n",
    "    - If your task is to identify the characteristics that reveal that the customers' comments are positive or negative, how would you do that and what methods would you use for this?\n",
    "    - What are the useful features that can be extracted from raw data? How can you access this data and understand whether it is useful?"
   ]
  },
  {
   "cell_type": "markdown",
   "metadata": {},
   "source": [
    "- What kind of problems do you expect to encounter in this raw data?\n",
    "Raw dataset contains unnecessary data, outliers, duplicates and  missing values. Dataset contains dirty data. So thus it would not be correct to use data without data cleaning\n",
    "- What kind of problems do you expect to encounter in this raw data?\n",
    "Unnecessary data and outliers, duplicates and missing values.\n",
    "- If your task is to identify the characteristics that reveal that the customers' comments are positive or negative, how would you do that and what methods would you use for this?\n",
    "We must make sure that the dataset is correct. We must analyze and recognize the data set well. The values entered in the data set must be entered correctly, there must not be wrong values. We should make the result explained statistically and by visualization.\n",
    "-What are the useful features that can be extracted from raw data? How can you access this data and understand whether it is useful?\n",
    "After properly cleaning and analyzing the dataset, we can comment according to the columns. For example, it can be concluded whether the customer is satisfied with the shopping or not, depending on whether the customer is shopping again. It can be determined whether the customer is satisfied or not based on the comments made by the customer.\n",
    "In other words, the features in the dataset give us information about the data. The accuracy of the data is important."
   ]
  },
  {
   "cell_type": "markdown",
   "metadata": {},
   "source": [
    "**(3)** Why do you think missing values should be taking care of?"
   ]
  },
  {
   "cell_type": "markdown",
   "metadata": {},
   "source": [
    "When our dataset is not large enough, the data becomes our valuable and we prefer to fill it up rather than lose it. Or because that missing value information is important to the dataset."
   ]
  },
  {
   "cell_type": "markdown",
   "metadata": {},
   "source": [
    "**(4)** Do you think that outliers have an impact on a dataset? If so, how would you explain this impact?"
   ]
  },
  {
   "cell_type": "markdown",
   "metadata": {},
   "source": [
    "Outliers have an impact on the dataset. It causes deviation from the mean. It reduces the reliability of the data. It loses its characteristic feature. It prevents us from finding healthy results"
   ]
  },
  {
   "cell_type": "markdown",
   "metadata": {},
   "source": [
    "**(5)** Please briefly summarize you first actions when you start analyzing the data?"
   ]
  },
  {
   "cell_type": "markdown",
   "metadata": {},
   "source": [
    "We have a three-step process:\n",
    "1. Data cleaning\n",
    "\n",
    "Removing unnecessary data and outliers. Remove duplicates Filling in missing values.\n",
    "\n",
    "2. Exploring data\n",
    "\n",
    "This second step is to investigate the data to discover relationships between different properties and patterns in the data. The main tools we use at this stage are statistics and visualization techniques.\n",
    "\n",
    "3. Feature engineering\n",
    "\n",
    "The final step is feature engineering, where we select the most useful features or create new features from existing features. This stage takes us to the next steps of the data science pipeline."
   ]
  },
  {
   "cell_type": "code",
   "execution_count": null,
   "metadata": {},
   "outputs": [],
   "source": []
  }
 ],
 "metadata": {
  "kernelspec": {
   "display_name": "Python 3",
   "language": "python",
   "name": "python3"
  },
  "language_info": {
   "codemirror_mode": {
    "name": "ipython",
    "version": 3
   },
   "file_extension": ".py",
   "mimetype": "text/x-python",
   "name": "python",
   "nbconvert_exporter": "python",
   "pygments_lexer": "ipython3",
   "version": "3.7.6"
  }
 },
 "nbformat": 4,
 "nbformat_minor": 4
}
