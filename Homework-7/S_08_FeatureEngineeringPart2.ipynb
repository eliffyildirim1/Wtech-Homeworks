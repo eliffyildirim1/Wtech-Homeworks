{
 "cells": [
  {
   "cell_type": "markdown",
   "metadata": {},
   "source": [
    "# <font color=blue>Solutions for \"Feature Engineering - Part 2\"</font>"
   ]
  },
  {
   "cell_type": "markdown",
   "metadata": {},
   "source": [
    "In this assignment, you are going to use a dataset related to the US education system. Please download the ([dataset](https://www.kaggle.com/noriuk/us-education-datasets-unification-project/home)) from Kaggle. You are going to use `states_all.csv` within this dataset.\n",
    "\n",
    "To complete this assignment, submit the Github link of the Jupyter notebook file containing solutions to the questions below. You can talk to your mentor on your head or ask Slack at office time."
   ]
  },
  {
   "cell_type": "code",
   "execution_count": 1,
   "metadata": {},
   "outputs": [],
   "source": [
    "import pandas as pd\n",
    "import matplotlib.pyplot as plt\n",
    "import seaborn as sns\n",
    "from scipy.stats.stats import ttest_ind\n",
    "import warnings\n",
    "\n",
    "warnings.filterwarnings('ignore')"
   ]
  },
  {
   "cell_type": "code",
   "execution_count": 2,
   "metadata": {},
   "outputs": [],
   "source": [
    "education_df = pd.read_csv('../data/states_all.csv')"
   ]
  },
  {
   "cell_type": "code",
   "execution_count": 3,
   "metadata": {},
   "outputs": [],
   "source": [
    "fill_list = [\"ENROLL\", \"TOTAL_REVENUE\", \"FEDERAL_REVENUE\",\n",
    "             \"STATE_REVENUE\", \"LOCAL_REVENUE\", \"TOTAL_EXPENDITURE\",\n",
    "             \"INSTRUCTION_EXPENDITURE\", \"SUPPORT_SERVICES_EXPENDITURE\",\n",
    "             \"OTHER_EXPENDITURE\", \"CAPITAL_OUTLAY_EXPENDITURE\", \"GRADES_PK_G\",\n",
    "             \"GRADES_KG_G\", \"GRADES_4_G\", \"GRADES_8_G\", \"GRADES_12_G\", \"GRADES_1_8_G\",\n",
    "             \"GRADES_9_12_G\", \"GRADES_ALL_G\"]\n",
    "\n",
    "states = education_df[\"STATE\"].unique()\n",
    "\n",
    "for state in states:\n",
    "    education_df.loc[education_df[\"STATE\"] == state, fill_list] = education_df.loc[education_df[\"STATE\"] == state, fill_list].interpolate()\n",
    "\n",
    "# we drop the null values after interpolation\n",
    "education_df.dropna(inplace=True)"
   ]
  },
  {
   "cell_type": "markdown",
   "metadata": {},
   "source": [
    "**(1)** Create a variable that contains the weighted average of the grades in the dataset. The number of students in the fourth grade is different from that of the eighth grade. So you will need a weighted average!"
   ]
  },
  {
   "cell_type": "code",
   "execution_count": 4,
   "metadata": {},
   "outputs": [],
   "source": [
    "education_df[\"overall_score\"] = (education_df[\"GRADES_4_G\"]* \n",
    "                                 ((education_df[\"AVG_MATH_4_SCORE\"] + education_df[\"AVG_READING_4_SCORE\"]) * 0.5) + \n",
    "                                 education_df[\"GRADES_8_G\"]\n",
    "                                 * ((education_df[\"AVG_MATH_8_SCORE\"] + \n",
    "                                     education_df[\"AVG_READING_8_SCORE\"]) * \n",
    "                                    0.5))/ (education_df[\"GRADES_4_G\"] + education_df[\"GRADES_8_G\"])"
   ]
  },
  {
   "cell_type": "markdown",
   "metadata": {},
   "source": [
    "- We weighted the score variables using the number of students in the respective grades."
   ]
  },
  {
   "cell_type": "markdown",
   "metadata": {},
   "source": [
    "**(2)** What is the correlation between the variable you just created and the types of expenditures? Which expenditure item has more correlation than others?"
   ]
  },
  {
   "cell_type": "code",
   "execution_count": 5,
   "metadata": {},
   "outputs": [
    {
     "data": {
      "text/html": [
       "<div>\n",
       "<style scoped>\n",
       "    .dataframe tbody tr th:only-of-type {\n",
       "        vertical-align: middle;\n",
       "    }\n",
       "\n",
       "    .dataframe tbody tr th {\n",
       "        vertical-align: top;\n",
       "    }\n",
       "\n",
       "    .dataframe thead th {\n",
       "        text-align: right;\n",
       "    }\n",
       "</style>\n",
       "<table border=\"1\" class=\"dataframe\">\n",
       "  <thead>\n",
       "    <tr style=\"text-align: right;\">\n",
       "      <th></th>\n",
       "      <th>overall_score</th>\n",
       "      <th>TOTAL_EXPENDITURE</th>\n",
       "      <th>INSTRUCTION_EXPENDITURE</th>\n",
       "      <th>SUPPORT_SERVICES_EXPENDITURE</th>\n",
       "      <th>OTHER_EXPENDITURE</th>\n",
       "      <th>CAPITAL_OUTLAY_EXPENDITURE</th>\n",
       "    </tr>\n",
       "  </thead>\n",
       "  <tbody>\n",
       "    <tr>\n",
       "      <th>overall_score</th>\n",
       "      <td>1.000000</td>\n",
       "      <td>0.074382</td>\n",
       "      <td>0.087626</td>\n",
       "      <td>0.079175</td>\n",
       "      <td>0.011099</td>\n",
       "      <td>-0.004472</td>\n",
       "    </tr>\n",
       "    <tr>\n",
       "      <th>TOTAL_EXPENDITURE</th>\n",
       "      <td>0.074382</td>\n",
       "      <td>1.000000</td>\n",
       "      <td>0.990203</td>\n",
       "      <td>0.992861</td>\n",
       "      <td>0.943844</td>\n",
       "      <td>0.924816</td>\n",
       "    </tr>\n",
       "    <tr>\n",
       "      <th>INSTRUCTION_EXPENDITURE</th>\n",
       "      <td>0.087626</td>\n",
       "      <td>0.990203</td>\n",
       "      <td>1.000000</td>\n",
       "      <td>0.974425</td>\n",
       "      <td>0.902323</td>\n",
       "      <td>0.883155</td>\n",
       "    </tr>\n",
       "    <tr>\n",
       "      <th>SUPPORT_SERVICES_EXPENDITURE</th>\n",
       "      <td>0.079175</td>\n",
       "      <td>0.992861</td>\n",
       "      <td>0.974425</td>\n",
       "      <td>1.000000</td>\n",
       "      <td>0.952062</td>\n",
       "      <td>0.909381</td>\n",
       "    </tr>\n",
       "    <tr>\n",
       "      <th>OTHER_EXPENDITURE</th>\n",
       "      <td>0.011099</td>\n",
       "      <td>0.943844</td>\n",
       "      <td>0.902323</td>\n",
       "      <td>0.952062</td>\n",
       "      <td>1.000000</td>\n",
       "      <td>0.917785</td>\n",
       "    </tr>\n",
       "    <tr>\n",
       "      <th>CAPITAL_OUTLAY_EXPENDITURE</th>\n",
       "      <td>-0.004472</td>\n",
       "      <td>0.924816</td>\n",
       "      <td>0.883155</td>\n",
       "      <td>0.909381</td>\n",
       "      <td>0.917785</td>\n",
       "      <td>1.000000</td>\n",
       "    </tr>\n",
       "  </tbody>\n",
       "</table>\n",
       "</div>"
      ],
      "text/plain": [
       "                              overall_score  TOTAL_EXPENDITURE  \\\n",
       "overall_score                      1.000000           0.074382   \n",
       "TOTAL_EXPENDITURE                  0.074382           1.000000   \n",
       "INSTRUCTION_EXPENDITURE            0.087626           0.990203   \n",
       "SUPPORT_SERVICES_EXPENDITURE       0.079175           0.992861   \n",
       "OTHER_EXPENDITURE                  0.011099           0.943844   \n",
       "CAPITAL_OUTLAY_EXPENDITURE        -0.004472           0.924816   \n",
       "\n",
       "                              INSTRUCTION_EXPENDITURE  \\\n",
       "overall_score                                0.087626   \n",
       "TOTAL_EXPENDITURE                            0.990203   \n",
       "INSTRUCTION_EXPENDITURE                      1.000000   \n",
       "SUPPORT_SERVICES_EXPENDITURE                 0.974425   \n",
       "OTHER_EXPENDITURE                            0.902323   \n",
       "CAPITAL_OUTLAY_EXPENDITURE                   0.883155   \n",
       "\n",
       "                              SUPPORT_SERVICES_EXPENDITURE  OTHER_EXPENDITURE  \\\n",
       "overall_score                                     0.079175           0.011099   \n",
       "TOTAL_EXPENDITURE                                 0.992861           0.943844   \n",
       "INSTRUCTION_EXPENDITURE                           0.974425           0.902323   \n",
       "SUPPORT_SERVICES_EXPENDITURE                      1.000000           0.952062   \n",
       "OTHER_EXPENDITURE                                 0.952062           1.000000   \n",
       "CAPITAL_OUTLAY_EXPENDITURE                        0.909381           0.917785   \n",
       "\n",
       "                              CAPITAL_OUTLAY_EXPENDITURE  \n",
       "overall_score                                  -0.004472  \n",
       "TOTAL_EXPENDITURE                               0.924816  \n",
       "INSTRUCTION_EXPENDITURE                         0.883155  \n",
       "SUPPORT_SERVICES_EXPENDITURE                    0.909381  \n",
       "OTHER_EXPENDITURE                               0.917785  \n",
       "CAPITAL_OUTLAY_EXPENDITURE                      1.000000  "
      ]
     },
     "execution_count": 5,
     "metadata": {},
     "output_type": "execute_result"
    }
   ],
   "source": [
    "education_df[[\"overall_score\", \"TOTAL_EXPENDITURE\", \"INSTRUCTION_EXPENDITURE\",\n",
    "              \"SUPPORT_SERVICES_EXPENDITURE\", \"OTHER_EXPENDITURE\", \"CAPITAL_OUTLAY_EXPENDITURE\"]].corr()"
   ]
  },
  {
   "cell_type": "markdown",
   "metadata": {},
   "source": [
    "- The most correlated variable with the overall score is the instruction expenditure"
   ]
  },
  {
   "cell_type": "markdown",
   "metadata": {},
   "source": [
    "**(3)** Now apply the Principal Components Analysis (PCA) for the four expenditure items! How much of the total variance can be explained by the first component?"
   ]
  },
  {
   "cell_type": "code",
   "execution_count": 6,
   "metadata": {},
   "outputs": [
    {
     "name": "stdout",
     "output_type": "stream",
     "text": [
      "The percentage of total variance in the dataset explained by each component from Sklearn PCA.\n",
      " [0.94252701]\n"
     ]
    }
   ],
   "source": [
    "from sklearn.decomposition import PCA\n",
    "from sklearn.preprocessing import StandardScaler\n",
    "\n",
    "X = education_df[[\"INSTRUCTION_EXPENDITURE\", \"SUPPORT_SERVICES_EXPENDITURE\",\n",
    "                  \"OTHER_EXPENDITURE\", \"CAPITAL_OUTLAY_EXPENDITURE\"]]\n",
    "\n",
    "X = StandardScaler().fit_transform(X)\n",
    "\n",
    "sklearn_pca = PCA(n_components=1)\n",
    "education_df[\"pca_1\"] = sklearn_pca.fit_transform(X)\n",
    "\n",
    "print(\n",
    "    'The percentage of total variance in the dataset explained by each',\n",
    "    'component from Sklearn PCA.\\n',\n",
    "    sklearn_pca.explained_variance_ratio_\n",
    ")"
   ]
  },
  {
   "cell_type": "markdown",
   "metadata": {},
   "source": [
    "- More than 94% of the total variance is explained by the first principal component."
   ]
  },
  {
   "cell_type": "markdown",
   "metadata": {},
   "source": [
    "**(4)** What is the correlation between the GPA you created and the first principal component?"
   ]
  },
  {
   "cell_type": "code",
   "execution_count": 7,
   "metadata": {},
   "outputs": [
    {
     "data": {
      "text/html": [
       "<div>\n",
       "<style scoped>\n",
       "    .dataframe tbody tr th:only-of-type {\n",
       "        vertical-align: middle;\n",
       "    }\n",
       "\n",
       "    .dataframe tbody tr th {\n",
       "        vertical-align: top;\n",
       "    }\n",
       "\n",
       "    .dataframe thead th {\n",
       "        text-align: right;\n",
       "    }\n",
       "</style>\n",
       "<table border=\"1\" class=\"dataframe\">\n",
       "  <thead>\n",
       "    <tr style=\"text-align: right;\">\n",
       "      <th></th>\n",
       "      <th>overall_score</th>\n",
       "      <th>pca_1</th>\n",
       "      <th>TOTAL_EXPENDITURE</th>\n",
       "      <th>INSTRUCTION_EXPENDITURE</th>\n",
       "      <th>SUPPORT_SERVICES_EXPENDITURE</th>\n",
       "      <th>OTHER_EXPENDITURE</th>\n",
       "      <th>CAPITAL_OUTLAY_EXPENDITURE</th>\n",
       "    </tr>\n",
       "  </thead>\n",
       "  <tbody>\n",
       "    <tr>\n",
       "      <th>overall_score</th>\n",
       "      <td>1.000000</td>\n",
       "      <td>0.044988</td>\n",
       "      <td>0.074382</td>\n",
       "      <td>0.087626</td>\n",
       "      <td>0.079175</td>\n",
       "      <td>0.011099</td>\n",
       "      <td>-0.004472</td>\n",
       "    </tr>\n",
       "    <tr>\n",
       "      <th>pca_1</th>\n",
       "      <td>0.044988</td>\n",
       "      <td>1.000000</td>\n",
       "      <td>0.992059</td>\n",
       "      <td>0.968492</td>\n",
       "      <td>0.988085</td>\n",
       "      <td>0.971480</td>\n",
       "      <td>0.955011</td>\n",
       "    </tr>\n",
       "    <tr>\n",
       "      <th>TOTAL_EXPENDITURE</th>\n",
       "      <td>0.074382</td>\n",
       "      <td>0.992059</td>\n",
       "      <td>1.000000</td>\n",
       "      <td>0.990203</td>\n",
       "      <td>0.992861</td>\n",
       "      <td>0.943844</td>\n",
       "      <td>0.924816</td>\n",
       "    </tr>\n",
       "    <tr>\n",
       "      <th>INSTRUCTION_EXPENDITURE</th>\n",
       "      <td>0.087626</td>\n",
       "      <td>0.968492</td>\n",
       "      <td>0.990203</td>\n",
       "      <td>1.000000</td>\n",
       "      <td>0.974425</td>\n",
       "      <td>0.902323</td>\n",
       "      <td>0.883155</td>\n",
       "    </tr>\n",
       "    <tr>\n",
       "      <th>SUPPORT_SERVICES_EXPENDITURE</th>\n",
       "      <td>0.079175</td>\n",
       "      <td>0.988085</td>\n",
       "      <td>0.992861</td>\n",
       "      <td>0.974425</td>\n",
       "      <td>1.000000</td>\n",
       "      <td>0.952062</td>\n",
       "      <td>0.909381</td>\n",
       "    </tr>\n",
       "    <tr>\n",
       "      <th>OTHER_EXPENDITURE</th>\n",
       "      <td>0.011099</td>\n",
       "      <td>0.971480</td>\n",
       "      <td>0.943844</td>\n",
       "      <td>0.902323</td>\n",
       "      <td>0.952062</td>\n",
       "      <td>1.000000</td>\n",
       "      <td>0.917785</td>\n",
       "    </tr>\n",
       "    <tr>\n",
       "      <th>CAPITAL_OUTLAY_EXPENDITURE</th>\n",
       "      <td>-0.004472</td>\n",
       "      <td>0.955011</td>\n",
       "      <td>0.924816</td>\n",
       "      <td>0.883155</td>\n",
       "      <td>0.909381</td>\n",
       "      <td>0.917785</td>\n",
       "      <td>1.000000</td>\n",
       "    </tr>\n",
       "  </tbody>\n",
       "</table>\n",
       "</div>"
      ],
      "text/plain": [
       "                              overall_score     pca_1  TOTAL_EXPENDITURE  \\\n",
       "overall_score                      1.000000  0.044988           0.074382   \n",
       "pca_1                              0.044988  1.000000           0.992059   \n",
       "TOTAL_EXPENDITURE                  0.074382  0.992059           1.000000   \n",
       "INSTRUCTION_EXPENDITURE            0.087626  0.968492           0.990203   \n",
       "SUPPORT_SERVICES_EXPENDITURE       0.079175  0.988085           0.992861   \n",
       "OTHER_EXPENDITURE                  0.011099  0.971480           0.943844   \n",
       "CAPITAL_OUTLAY_EXPENDITURE        -0.004472  0.955011           0.924816   \n",
       "\n",
       "                              INSTRUCTION_EXPENDITURE  \\\n",
       "overall_score                                0.087626   \n",
       "pca_1                                        0.968492   \n",
       "TOTAL_EXPENDITURE                            0.990203   \n",
       "INSTRUCTION_EXPENDITURE                      1.000000   \n",
       "SUPPORT_SERVICES_EXPENDITURE                 0.974425   \n",
       "OTHER_EXPENDITURE                            0.902323   \n",
       "CAPITAL_OUTLAY_EXPENDITURE                   0.883155   \n",
       "\n",
       "                              SUPPORT_SERVICES_EXPENDITURE  OTHER_EXPENDITURE  \\\n",
       "overall_score                                     0.079175           0.011099   \n",
       "pca_1                                             0.988085           0.971480   \n",
       "TOTAL_EXPENDITURE                                 0.992861           0.943844   \n",
       "INSTRUCTION_EXPENDITURE                           0.974425           0.902323   \n",
       "SUPPORT_SERVICES_EXPENDITURE                      1.000000           0.952062   \n",
       "OTHER_EXPENDITURE                                 0.952062           1.000000   \n",
       "CAPITAL_OUTLAY_EXPENDITURE                        0.909381           0.917785   \n",
       "\n",
       "                              CAPITAL_OUTLAY_EXPENDITURE  \n",
       "overall_score                                  -0.004472  \n",
       "pca_1                                           0.955011  \n",
       "TOTAL_EXPENDITURE                               0.924816  \n",
       "INSTRUCTION_EXPENDITURE                         0.883155  \n",
       "SUPPORT_SERVICES_EXPENDITURE                    0.909381  \n",
       "OTHER_EXPENDITURE                               0.917785  \n",
       "CAPITAL_OUTLAY_EXPENDITURE                      1.000000  "
      ]
     },
     "execution_count": 7,
     "metadata": {},
     "output_type": "execute_result"
    }
   ],
   "source": [
    "education_df[[\"overall_score\", \"pca_1\", \"TOTAL_EXPENDITURE\", \"INSTRUCTION_EXPENDITURE\",\n",
    "              \"SUPPORT_SERVICES_EXPENDITURE\", \"OTHER_EXPENDITURE\", \"CAPITAL_OUTLAY_EXPENDITURE\"]].corr()"
   ]
  },
  {
   "cell_type": "markdown",
   "metadata": {},
   "source": [
    "- The correlation of the first principal component is less than the instruction expenditure and the support service expenditure variables."
   ]
  },
  {
   "cell_type": "markdown",
   "metadata": {},
   "source": [
    "**(5)** When you need to choose the most appropriate variables for your model, would you prefer the first basic variables instead of the expenditure items? Why?"
   ]
  },
  {
   "cell_type": "markdown",
   "metadata": {},
   "source": [
    "Instruction expenditure variable is more correlated with the overall score than the first principal component. Hence using instruction expenditure makes more sense. PCA works best when the correlation between the variables are less than and equal to 0.8. In our case, all of the expenditure variables are highly correlated with each other. This may result in instable principal component estimations."
   ]
  }
 ],
 "metadata": {
  "kernelspec": {
   "display_name": "Python 3",
   "language": "python",
   "name": "python3"
  },
  "language_info": {
   "codemirror_mode": {
    "name": "ipython",
    "version": 3
   },
   "file_extension": ".py",
   "mimetype": "text/x-python",
   "name": "python",
   "nbconvert_exporter": "python",
   "pygments_lexer": "ipython3",
   "version": "3.8.2"
  }
 },
 "nbformat": 4,
 "nbformat_minor": 4
}
