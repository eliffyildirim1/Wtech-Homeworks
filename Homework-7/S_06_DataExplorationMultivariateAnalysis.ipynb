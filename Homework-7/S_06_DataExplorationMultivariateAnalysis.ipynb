{
 "cells": [
  {
   "cell_type": "markdown",
   "metadata": {},
   "source": [
    "# <font color=blue>Solutions for \"Data Exploration - Multivariate Analysis\"</font>"
   ]
  },
  {
   "cell_type": "markdown",
   "metadata": {},
   "source": [
    "In this assignment, you will work on the `Students Performance` ([dataset](https://www.kaggle.com/spscientist/students-performance-in-exams/home)). You can reach the explanations of this data from Kaggle again.\n",
    "\n",
    "To complete this assignment, submit the Github link of the Jupyter notebook file containing solutions to the questions below. You can talk to your mentor on your head or ask Slack at office time."
   ]
  },
  {
   "cell_type": "code",
   "execution_count": 1,
   "metadata": {},
   "outputs": [],
   "source": [
    "import pandas as pd\n",
    "import matplotlib.pyplot as plt\n",
    "import seaborn as sns\n",
    "from scipy.stats.stats import ttest_ind\n",
    "import warnings\n",
    "\n",
    "warnings.filterwarnings('ignore')"
   ]
  },
  {
   "cell_type": "code",
   "execution_count": 2,
   "metadata": {},
   "outputs": [],
   "source": [
    "student_df = pd.read_csv('../data/StudentsPerformance.csv')"
   ]
  },
  {
   "cell_type": "markdown",
   "metadata": {},
   "source": [
    "**(1)** Does the performance in the exams vary according to gender, origin and education level of parents?"
   ]
  },
  {
   "cell_type": "code",
   "execution_count": 3,
   "metadata": {},
   "outputs": [
    {
     "data": {
      "text/html": [
       "<div>\n",
       "<style scoped>\n",
       "    .dataframe tbody tr th:only-of-type {\n",
       "        vertical-align: middle;\n",
       "    }\n",
       "\n",
       "    .dataframe tbody tr th {\n",
       "        vertical-align: top;\n",
       "    }\n",
       "\n",
       "    .dataframe thead th {\n",
       "        text-align: right;\n",
       "    }\n",
       "</style>\n",
       "<table border=\"1\" class=\"dataframe\">\n",
       "  <thead>\n",
       "    <tr style=\"text-align: right;\">\n",
       "      <th></th>\n",
       "      <th>math score</th>\n",
       "      <th>reading score</th>\n",
       "      <th>writing score</th>\n",
       "    </tr>\n",
       "    <tr>\n",
       "      <th>gender</th>\n",
       "      <th></th>\n",
       "      <th></th>\n",
       "      <th></th>\n",
       "    </tr>\n",
       "  </thead>\n",
       "  <tbody>\n",
       "    <tr>\n",
       "      <th>female</th>\n",
       "      <td>63.633205</td>\n",
       "      <td>72.608108</td>\n",
       "      <td>72.467181</td>\n",
       "    </tr>\n",
       "    <tr>\n",
       "      <th>male</th>\n",
       "      <td>68.728216</td>\n",
       "      <td>65.473029</td>\n",
       "      <td>63.311203</td>\n",
       "    </tr>\n",
       "  </tbody>\n",
       "</table>\n",
       "</div>"
      ],
      "text/plain": [
       "        math score  reading score  writing score\n",
       "gender                                          \n",
       "female   63.633205      72.608108      72.467181\n",
       "male     68.728216      65.473029      63.311203"
      ]
     },
     "execution_count": 3,
     "metadata": {},
     "output_type": "execute_result"
    }
   ],
   "source": [
    "student_df.groupby(\"gender\").mean()[[\"math score\", \"reading score\", \"writing score\"]]"
   ]
  },
  {
   "cell_type": "code",
   "execution_count": 4,
   "metadata": {},
   "outputs": [
    {
     "name": "stdout",
     "output_type": "stream",
     "text": [
      "p value for math    : 0.0000000912\n",
      "p value for reading : 0.0000000000\n",
      "p value for writing : 0.0000000000\n"
     ]
    }
   ],
   "source": [
    "ttest_result = ttest_ind(student_df[student_df.gender == \"female\"][[\"math score\", \"reading score\", \"writing score\"]],\n",
    "                         student_df[student_df.gender == \"male\"][[\"math score\", \"reading score\", \"writing score\"]])\n",
    "\n",
    "print(\"p value for math    : {:.10f}\".format(ttest_result[1][0]))\n",
    "print(\"p value for reading : {:.10f}\".format(ttest_result[1][1]))\n",
    "print(\"p value for writing : {:.10f}\".format(ttest_result[1][2]))"
   ]
  },
  {
   "cell_type": "markdown",
   "metadata": {},
   "source": [
    "- It seems that females are more successful at reading and writing whereas males are more successful at math. The t-tests justify that the differences are statistically significant."
   ]
  },
  {
   "cell_type": "code",
   "execution_count": 5,
   "metadata": {},
   "outputs": [
    {
     "data": {
      "text/html": [
       "<div>\n",
       "<style scoped>\n",
       "    .dataframe tbody tr th:only-of-type {\n",
       "        vertical-align: middle;\n",
       "    }\n",
       "\n",
       "    .dataframe tbody tr th {\n",
       "        vertical-align: top;\n",
       "    }\n",
       "\n",
       "    .dataframe thead th {\n",
       "        text-align: right;\n",
       "    }\n",
       "</style>\n",
       "<table border=\"1\" class=\"dataframe\">\n",
       "  <thead>\n",
       "    <tr style=\"text-align: right;\">\n",
       "      <th></th>\n",
       "      <th>math score</th>\n",
       "      <th>reading score</th>\n",
       "      <th>writing score</th>\n",
       "    </tr>\n",
       "    <tr>\n",
       "      <th>race/ethnicity</th>\n",
       "      <th></th>\n",
       "      <th></th>\n",
       "      <th></th>\n",
       "    </tr>\n",
       "  </thead>\n",
       "  <tbody>\n",
       "    <tr>\n",
       "      <th>group A</th>\n",
       "      <td>61.629213</td>\n",
       "      <td>64.674157</td>\n",
       "      <td>62.674157</td>\n",
       "    </tr>\n",
       "    <tr>\n",
       "      <th>group B</th>\n",
       "      <td>63.452632</td>\n",
       "      <td>67.352632</td>\n",
       "      <td>65.600000</td>\n",
       "    </tr>\n",
       "    <tr>\n",
       "      <th>group C</th>\n",
       "      <td>64.463950</td>\n",
       "      <td>69.103448</td>\n",
       "      <td>67.827586</td>\n",
       "    </tr>\n",
       "    <tr>\n",
       "      <th>group D</th>\n",
       "      <td>67.362595</td>\n",
       "      <td>70.030534</td>\n",
       "      <td>70.145038</td>\n",
       "    </tr>\n",
       "    <tr>\n",
       "      <th>group E</th>\n",
       "      <td>73.821429</td>\n",
       "      <td>73.028571</td>\n",
       "      <td>71.407143</td>\n",
       "    </tr>\n",
       "  </tbody>\n",
       "</table>\n",
       "</div>"
      ],
      "text/plain": [
       "                math score  reading score  writing score\n",
       "race/ethnicity                                          \n",
       "group A          61.629213      64.674157      62.674157\n",
       "group B          63.452632      67.352632      65.600000\n",
       "group C          64.463950      69.103448      67.827586\n",
       "group D          67.362595      70.030534      70.145038\n",
       "group E          73.821429      73.028571      71.407143"
      ]
     },
     "execution_count": 5,
     "metadata": {},
     "output_type": "execute_result"
    }
   ],
   "source": [
    "student_df.groupby(\"race/ethnicity\").mean()[[\"math score\", \"reading score\", \"writing score\"]]"
   ]
  },
  {
   "cell_type": "code",
   "execution_count": 6,
   "metadata": {},
   "outputs": [
    {
     "name": "stdout",
     "output_type": "stream",
     "text": [
      "------------------------------------------------\n",
      "Comparisons for variable: math score\n",
      "------------------------------------------------\n",
      "t-test p value between group B and group C : 0.4647708939\n",
      "t-test p value between group B and group A : 0.3503415962\n",
      "t-test p value between group B and group D : 0.0048861971\n",
      "t-test p value between group B and group E : 0.0000000050\n",
      "t-test p value between group C and group A : 0.1104381075\n",
      "t-test p value between group C and group D : 0.0158883496\n",
      "t-test p value between group C and group E : 0.0000000019\n",
      "t-test p value between group A and group D : 0.0009068636\n",
      "t-test p value between group A and group E : 0.0000000108\n",
      "t-test p value between group D and group E : 0.0000231876\n",
      "------------------------------------------------\n",
      "Comparisons for variable: reading score\n",
      "------------------------------------------------\n",
      "t-test p value between group B and group C : 0.1866592809\n",
      "t-test p value between group B and group A : 0.1738735513\n",
      "t-test p value between group B and group D : 0.0523786207\n",
      "t-test p value between group B and group E : 0.0007951618\n",
      "t-test p value between group C and group A : 0.0103643980\n",
      "t-test p value between group C and group D : 0.4257713821\n",
      "t-test p value between group C and group E : 0.0069132843\n",
      "t-test p value between group A and group D : 0.0024886545\n",
      "t-test p value between group A and group E : 0.0000646340\n",
      "t-test p value between group D and group E : 0.0450333064\n",
      "------------------------------------------------\n",
      "Comparisons for variable: writing score\n",
      "------------------------------------------------\n",
      "t-test p value between group B and group C : 0.1110010960\n",
      "t-test p value between group B and group A : 0.1447537420\n",
      "t-test p value between group B and group D : 0.0014749979\n",
      "t-test p value between group B and group E : 0.0008032300\n",
      "t-test p value between group C and group A : 0.0046106907\n",
      "t-test p value between group C and group D : 0.0593023292\n",
      "t-test p value between group C and group E : 0.0191835390\n",
      "t-test p value between group A and group D : 0.0000408481\n",
      "t-test p value between group A and group E : 0.0000348328\n",
      "t-test p value between group D and group E : 0.4104455517\n"
     ]
    }
   ],
   "source": [
    "# Test whether group differences are significant.\n",
    "ethnicities = student_df[\"race/ethnicity\"].unique()\n",
    "grouped_df = student_df.groupby(\"race/ethnicity\")\n",
    "for var in [\"math score\", \"reading score\", \"writing score\"]:\n",
    "    print(\"------------------------------------------------\")\n",
    "    print(\"Comparisons for variable: {}\".format(var))\n",
    "    print(\"------------------------------------------------\")\n",
    "    for i in range(0, len(ethnicities)):\n",
    "        for j in range(i+1, len(ethnicities)):\n",
    "            test_result = ttest_ind(student_df[student_df[\"race/ethnicity\"] == ethnicities[i]][var],\n",
    "                                    student_df[student_df[\"race/ethnicity\"] == ethnicities[j]][var])\n",
    "            print(\"t-test p value between {} and {} : {:.10f}\".format(ethnicities[i], ethnicities[j], test_result[1] ))"
   ]
  },
  {
   "cell_type": "markdown",
   "metadata": {},
   "source": [
    "- Taking into account the t statistics, there are significant differences except between the groups A, B and C."
   ]
  },
  {
   "cell_type": "code",
   "execution_count": 7,
   "metadata": {},
   "outputs": [
    {
     "data": {
      "text/html": [
       "<div>\n",
       "<style scoped>\n",
       "    .dataframe tbody tr th:only-of-type {\n",
       "        vertical-align: middle;\n",
       "    }\n",
       "\n",
       "    .dataframe tbody tr th {\n",
       "        vertical-align: top;\n",
       "    }\n",
       "\n",
       "    .dataframe thead th {\n",
       "        text-align: right;\n",
       "    }\n",
       "</style>\n",
       "<table border=\"1\" class=\"dataframe\">\n",
       "  <thead>\n",
       "    <tr style=\"text-align: right;\">\n",
       "      <th></th>\n",
       "      <th>math score</th>\n",
       "      <th>reading score</th>\n",
       "      <th>writing score</th>\n",
       "    </tr>\n",
       "    <tr>\n",
       "      <th>parental level of education</th>\n",
       "      <th></th>\n",
       "      <th></th>\n",
       "      <th></th>\n",
       "    </tr>\n",
       "  </thead>\n",
       "  <tbody>\n",
       "    <tr>\n",
       "      <th>associate's degree</th>\n",
       "      <td>67.882883</td>\n",
       "      <td>70.927928</td>\n",
       "      <td>69.896396</td>\n",
       "    </tr>\n",
       "    <tr>\n",
       "      <th>bachelor's degree</th>\n",
       "      <td>69.389831</td>\n",
       "      <td>73.000000</td>\n",
       "      <td>73.381356</td>\n",
       "    </tr>\n",
       "    <tr>\n",
       "      <th>high school</th>\n",
       "      <td>62.137755</td>\n",
       "      <td>64.704082</td>\n",
       "      <td>62.448980</td>\n",
       "    </tr>\n",
       "    <tr>\n",
       "      <th>master's degree</th>\n",
       "      <td>69.745763</td>\n",
       "      <td>75.372881</td>\n",
       "      <td>75.677966</td>\n",
       "    </tr>\n",
       "    <tr>\n",
       "      <th>some college</th>\n",
       "      <td>67.128319</td>\n",
       "      <td>69.460177</td>\n",
       "      <td>68.840708</td>\n",
       "    </tr>\n",
       "    <tr>\n",
       "      <th>some high school</th>\n",
       "      <td>63.497207</td>\n",
       "      <td>66.938547</td>\n",
       "      <td>64.888268</td>\n",
       "    </tr>\n",
       "  </tbody>\n",
       "</table>\n",
       "</div>"
      ],
      "text/plain": [
       "                             math score  reading score  writing score\n",
       "parental level of education                                          \n",
       "associate's degree            67.882883      70.927928      69.896396\n",
       "bachelor's degree             69.389831      73.000000      73.381356\n",
       "high school                   62.137755      64.704082      62.448980\n",
       "master's degree               69.745763      75.372881      75.677966\n",
       "some college                  67.128319      69.460177      68.840708\n",
       "some high school              63.497207      66.938547      64.888268"
      ]
     },
     "execution_count": 7,
     "metadata": {},
     "output_type": "execute_result"
    }
   ],
   "source": [
    "student_df.groupby(\"parental level of education\").mean()[[\"math score\", \"reading score\", \"writing score\"]]"
   ]
  },
  {
   "cell_type": "code",
   "execution_count": 8,
   "metadata": {},
   "outputs": [
    {
     "name": "stdout",
     "output_type": "stream",
     "text": [
      "------------------------------------------------\n",
      "Comparisons for variable: math score\n",
      "------------------------------------------------\n",
      "t-test p value between bachelor's degree and some college : 0.1715122422\n",
      "t-test p value between bachelor's degree and master's degree : 0.8819757825\n",
      "t-test p value between bachelor's degree and associate's degree : 0.3802075782\n",
      "t-test p value between bachelor's degree and high school : 0.0000299653\n",
      "t-test p value between bachelor's degree and some high school : 0.0015409193\n",
      "t-test p value between some college and master's degree : 0.2176195681\n",
      "t-test p value between some college and associate's degree : 0.5876182809\n",
      "t-test p value between some college and high school : 0.0004349800\n",
      "t-test p value between some college and some high school : 0.0163243616\n",
      "t-test p value between master's degree and associate's degree : 0.4009993636\n",
      "t-test p value between master's degree and high school : 0.0005709292\n",
      "t-test p value between master's degree and some high school : 0.0087362288\n",
      "t-test p value between associate's degree and high school : 0.0000924731\n",
      "t-test p value between associate's degree and some high school : 0.0050410815\n",
      "t-test p value between high school and some high school : 0.3881086104\n",
      "------------------------------------------------\n",
      "Comparisons for variable: reading score\n",
      "------------------------------------------------\n",
      "t-test p value between bachelor's degree and some college : 0.0281275553\n",
      "t-test p value between bachelor's degree and master's degree : 0.2932967513\n",
      "t-test p value between bachelor's degree and associate's degree : 0.1952420648\n",
      "t-test p value between bachelor's degree and high school : 0.0000008804\n",
      "t-test p value between bachelor's degree and some high school : 0.0007561972\n",
      "t-test p value between some college and master's degree : 0.0041654408\n",
      "t-test p value between some college and associate's degree : 0.2666002854\n",
      "t-test p value between some college and high school : 0.0006001048\n",
      "t-test p value between some college and some high school : 0.0872678686\n",
      "t-test p value between master's degree and associate's degree : 0.0292641457\n",
      "t-test p value between master's degree and high school : 0.0000006258\n",
      "t-test p value between master's degree and some high school : 0.0002433455\n",
      "t-test p value between associate's degree and high school : 0.0000074422\n",
      "t-test p value between associate's degree and some high school : 0.0068467701\n",
      "t-test p value between high school and some high school : 0.1447791955\n",
      "------------------------------------------------\n",
      "Comparisons for variable: writing score\n",
      "------------------------------------------------\n",
      "t-test p value between bachelor's degree and some college : 0.0077110120\n",
      "t-test p value between bachelor's degree and master's degree : 0.3187519641\n",
      "t-test p value between bachelor's degree and associate's degree : 0.0350816245\n",
      "t-test p value between bachelor's degree and high school : 0.0000000002\n",
      "t-test p value between bachelor's degree and some high school : 0.0000046282\n",
      "t-test p value between some college and master's degree : 0.0016985933\n",
      "t-test p value between some college and associate's degree : 0.4467031660\n",
      "t-test p value between some college and high school : 0.0000092750\n",
      "t-test p value between some college and some high school : 0.0103585291\n",
      "t-test p value between master's degree and associate's degree : 0.0057840327\n",
      "t-test p value between master's degree and high school : 0.0000000009\n",
      "t-test p value between master's degree and some high school : 0.0000042755\n",
      "t-test p value between associate's degree and high school : 0.0000001465\n",
      "t-test p value between associate's degree and some high school : 0.0009435990\n",
      "t-test p value between high school and some high school : 0.1140665393\n"
     ]
    }
   ],
   "source": [
    "# Test whether group differences are significant.\n",
    "level_of_education = student_df[\"parental level of education\"].unique()\n",
    "grouped_df = student_df.groupby(\"parental level of education\")\n",
    "for var in [\"math score\", \"reading score\", \"writing score\"]:\n",
    "    print(\"------------------------------------------------\")\n",
    "    print(\"Comparisons for variable: {}\".format(var))\n",
    "    print(\"------------------------------------------------\")\n",
    "    for i in range(0, len(level_of_education)):\n",
    "        for j in range(i+1, len(level_of_education)):\n",
    "            test_result = ttest_ind(student_df[student_df[\"parental level of education\"] == level_of_education[i]][var],\n",
    "                                    student_df[student_df[\"parental level of education\"] == level_of_education[j]][var])\n",
    "            print(\"t-test p value between {} and {} : {:.10f}\".format(level_of_education[i], level_of_education[j], test_result[1] ))"
   ]
  },
  {
   "cell_type": "markdown",
   "metadata": {},
   "source": [
    "- There are some significant differences between some groups like master's degree and high school."
   ]
  },
  {
   "cell_type": "markdown",
   "metadata": {},
   "source": [
    "**(2)** Does lunch type have a relationship with exam performances? How can you explain this, if any?"
   ]
  },
  {
   "cell_type": "code",
   "execution_count": 9,
   "metadata": {},
   "outputs": [
    {
     "data": {
      "text/html": [
       "<div>\n",
       "<style scoped>\n",
       "    .dataframe tbody tr th:only-of-type {\n",
       "        vertical-align: middle;\n",
       "    }\n",
       "\n",
       "    .dataframe tbody tr th {\n",
       "        vertical-align: top;\n",
       "    }\n",
       "\n",
       "    .dataframe thead th {\n",
       "        text-align: right;\n",
       "    }\n",
       "</style>\n",
       "<table border=\"1\" class=\"dataframe\">\n",
       "  <thead>\n",
       "    <tr style=\"text-align: right;\">\n",
       "      <th></th>\n",
       "      <th>math score</th>\n",
       "      <th>reading score</th>\n",
       "      <th>writing score</th>\n",
       "    </tr>\n",
       "    <tr>\n",
       "      <th>lunch</th>\n",
       "      <th></th>\n",
       "      <th></th>\n",
       "      <th></th>\n",
       "    </tr>\n",
       "  </thead>\n",
       "  <tbody>\n",
       "    <tr>\n",
       "      <th>free/reduced</th>\n",
       "      <td>58.921127</td>\n",
       "      <td>64.653521</td>\n",
       "      <td>63.022535</td>\n",
       "    </tr>\n",
       "    <tr>\n",
       "      <th>standard</th>\n",
       "      <td>70.034109</td>\n",
       "      <td>71.654264</td>\n",
       "      <td>70.823256</td>\n",
       "    </tr>\n",
       "  </tbody>\n",
       "</table>\n",
       "</div>"
      ],
      "text/plain": [
       "              math score  reading score  writing score\n",
       "lunch                                                 \n",
       "free/reduced   58.921127      64.653521      63.022535\n",
       "standard       70.034109      71.654264      70.823256"
      ]
     },
     "execution_count": 9,
     "metadata": {},
     "output_type": "execute_result"
    }
   ],
   "source": [
    "student_df.groupby(\"lunch\").mean()[[\"math score\", \"reading score\", \"writing score\"]]"
   ]
  },
  {
   "cell_type": "code",
   "execution_count": 10,
   "metadata": {},
   "outputs": [
    {
     "name": "stdout",
     "output_type": "stream",
     "text": [
      "p value for math    : 0.0000000000\n",
      "p value for reading : 0.0000000000\n",
      "p value for writing : 0.0000000000\n"
     ]
    }
   ],
   "source": [
    "ttest_result = ttest_ind(student_df[student_df.lunch == \"free/reduced\"][[\"math score\", \"reading score\", \"writing score\"]],\n",
    "          student_df[student_df.lunch == \"standard\"][[\"math score\", \"reading score\", \"writing score\"]])\n",
    "\n",
    "print(\"p value for math    : {:.10f}\".format(ttest_result[1][0]))\n",
    "print(\"p value for reading : {:.10f}\".format(ttest_result[1][1]))\n",
    "print(\"p value for writing : {:.10f}\".format(ttest_result[1][2]))"
   ]
  },
  {
   "cell_type": "markdown",
   "metadata": {},
   "source": [
    "Yes, students who have standard lunch are more successful than the others."
   ]
  },
  {
   "cell_type": "markdown",
   "metadata": {},
   "source": [
    "**(3)** Does the preparation courses have an impact on exam performance?"
   ]
  },
  {
   "cell_type": "code",
   "execution_count": 11,
   "metadata": {},
   "outputs": [
    {
     "data": {
      "text/html": [
       "<div>\n",
       "<style scoped>\n",
       "    .dataframe tbody tr th:only-of-type {\n",
       "        vertical-align: middle;\n",
       "    }\n",
       "\n",
       "    .dataframe tbody tr th {\n",
       "        vertical-align: top;\n",
       "    }\n",
       "\n",
       "    .dataframe thead th {\n",
       "        text-align: right;\n",
       "    }\n",
       "</style>\n",
       "<table border=\"1\" class=\"dataframe\">\n",
       "  <thead>\n",
       "    <tr style=\"text-align: right;\">\n",
       "      <th></th>\n",
       "      <th>math score</th>\n",
       "      <th>reading score</th>\n",
       "      <th>writing score</th>\n",
       "    </tr>\n",
       "    <tr>\n",
       "      <th>test preparation course</th>\n",
       "      <th></th>\n",
       "      <th></th>\n",
       "      <th></th>\n",
       "    </tr>\n",
       "  </thead>\n",
       "  <tbody>\n",
       "    <tr>\n",
       "      <th>completed</th>\n",
       "      <td>69.695531</td>\n",
       "      <td>73.893855</td>\n",
       "      <td>74.418994</td>\n",
       "    </tr>\n",
       "    <tr>\n",
       "      <th>none</th>\n",
       "      <td>64.077882</td>\n",
       "      <td>66.534268</td>\n",
       "      <td>64.504673</td>\n",
       "    </tr>\n",
       "  </tbody>\n",
       "</table>\n",
       "</div>"
      ],
      "text/plain": [
       "                         math score  reading score  writing score\n",
       "test preparation course                                          \n",
       "completed                 69.695531      73.893855      74.418994\n",
       "none                      64.077882      66.534268      64.504673"
      ]
     },
     "execution_count": 11,
     "metadata": {},
     "output_type": "execute_result"
    }
   ],
   "source": [
    "student_df.groupby(\"test preparation course\").mean()[[\"math score\", \"reading score\", \"writing score\"]]"
   ]
  },
  {
   "cell_type": "code",
   "execution_count": 12,
   "metadata": {},
   "outputs": [
    {
     "name": "stdout",
     "output_type": "stream",
     "text": [
      "p value for math    : 0.0000000154\n",
      "p value for reading : 0.0000000000\n",
      "p value for writing : 0.0000000000\n"
     ]
    }
   ],
   "source": [
    "ttest_result = ttest_ind(student_df[student_df[\"test preparation course\"] == \"completed\"][[\"math score\", \"reading score\", \"writing score\"]],\n",
    "                         student_df[student_df[\"test preparation course\"] == \"none\"][[\"math score\", \"reading score\", \"writing score\"]])\n",
    "\n",
    "print(\"p value for math    : {:.10f}\".format(ttest_result[1][0]))\n",
    "print(\"p value for reading : {:.10f}\".format(ttest_result[1][1]))\n",
    "print(\"p value for writing : {:.10f}\".format(ttest_result[1][2]))"
   ]
  },
  {
   "cell_type": "markdown",
   "metadata": {},
   "source": [
    "Yes, those who completed the test preparation course are more successfull than the others."
   ]
  },
  {
   "cell_type": "markdown",
   "metadata": {},
   "source": [
    "**(4)** Which lessons are most correlated with each other?"
   ]
  },
  {
   "cell_type": "code",
   "execution_count": 13,
   "metadata": {},
   "outputs": [
    {
     "data": {
      "text/html": [
       "<div>\n",
       "<style scoped>\n",
       "    .dataframe tbody tr th:only-of-type {\n",
       "        vertical-align: middle;\n",
       "    }\n",
       "\n",
       "    .dataframe tbody tr th {\n",
       "        vertical-align: top;\n",
       "    }\n",
       "\n",
       "    .dataframe thead th {\n",
       "        text-align: right;\n",
       "    }\n",
       "</style>\n",
       "<table border=\"1\" class=\"dataframe\">\n",
       "  <thead>\n",
       "    <tr style=\"text-align: right;\">\n",
       "      <th></th>\n",
       "      <th>math score</th>\n",
       "      <th>reading score</th>\n",
       "      <th>writing score</th>\n",
       "    </tr>\n",
       "  </thead>\n",
       "  <tbody>\n",
       "    <tr>\n",
       "      <th>math score</th>\n",
       "      <td>1.000000</td>\n",
       "      <td>0.817580</td>\n",
       "      <td>0.802642</td>\n",
       "    </tr>\n",
       "    <tr>\n",
       "      <th>reading score</th>\n",
       "      <td>0.817580</td>\n",
       "      <td>1.000000</td>\n",
       "      <td>0.954598</td>\n",
       "    </tr>\n",
       "    <tr>\n",
       "      <th>writing score</th>\n",
       "      <td>0.802642</td>\n",
       "      <td>0.954598</td>\n",
       "      <td>1.000000</td>\n",
       "    </tr>\n",
       "  </tbody>\n",
       "</table>\n",
       "</div>"
      ],
      "text/plain": [
       "               math score  reading score  writing score\n",
       "math score       1.000000       0.817580       0.802642\n",
       "reading score    0.817580       1.000000       0.954598\n",
       "writing score    0.802642       0.954598       1.000000"
      ]
     },
     "execution_count": 13,
     "metadata": {},
     "output_type": "execute_result"
    }
   ],
   "source": [
    "student_df[[\"math score\", \"reading score\", \"writing score\"]].corr()"
   ]
  },
  {
   "cell_type": "code",
   "execution_count": 14,
   "metadata": {},
   "outputs": [
    {
     "data": {
      "image/png": "[encoded data removed]",
      "text/plain": [
       "<Figure size 1296x360 with 2 Axes>"
      ]
     },
     "metadata": {
      "needs_background": "light"
     },
     "output_type": "display_data"
    }
   ],
   "source": [
    "plt.figure(figsize=(18,5))\n",
    "\n",
    "corr_ = student_df[[\"math score\", \"reading score\", \"writing score\"]].corr()\n",
    "sns.heatmap(corr_, square=True, annot=True, linewidths=.5, vmin=0, vmax=1, cmap='viridis')\n",
    "plt.title(\"Correlation Matrix (Scores)\")\n",
    "\n",
    "plt.show()"
   ]
  },
  {
   "cell_type": "markdown",
   "metadata": {},
   "source": [
    "Reading and writing are more correlated than any other combination."
   ]
  }
 ],
 "metadata": {
  "kernelspec": {
   "display_name": "Python 3",
   "language": "python",
   "name": "python3"
  },
  "language_info": {
   "codemirror_mode": {
    "name": "ipython",
    "version": 3
   },
   "file_extension": ".py",
   "mimetype": "text/x-python",
   "name": "python",
   "nbconvert_exporter": "python",
   "pygments_lexer": "ipython3",
   "version": "3.8.2"
  }
 },
 "nbformat": 4,
 "nbformat_minor": 4
}
