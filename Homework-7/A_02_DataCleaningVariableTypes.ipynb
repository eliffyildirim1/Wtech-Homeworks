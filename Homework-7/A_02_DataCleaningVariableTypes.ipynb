{
 "cells": [
  {
   "cell_type": "markdown",
   "metadata": {},
   "source": [
    "# <font color=blue>Assignments for \"Data Cleaning - Variable Types\"</font>"
   ]
  },
  {
   "cell_type": "markdown",
   "metadata": {},
   "source": [
    "**(1)** Determine the types of the below-given variables:\n",
    "- Age\n",
    "- Salary\n",
    "- Income\n",
    "- Customer type\n",
    "- Stock price "
   ]
  },
  {
   "cell_type": "markdown",
   "metadata": {},
   "source": [
    "age types of discrete variables \n",
    "salary types of types of Continuous variables\n",
    "income types of types of Continuous variables\n",
    "customer types of nominal variables\n",
    "stock price types of Continuous variables"
   ]
  },
  {
   "cell_type": "markdown",
   "metadata": {},
   "source": [
    "**(2)** Using the `movie` data, we have studied in this lesson. Complete the following tasks:\n",
    "    * Select a variable from the `movie` dataset and discuss the variable type of this variable\n",
    "    * Categorize a variable of your choice and assign a name to it\n",
    "    * Count the number of rows for each category"
   ]
  },
  {
   "cell_type": "code",
   "execution_count": 3,
   "metadata": {},
   "outputs": [
    {
     "data": {
      "text/plain": [
       "imdb_scorecat\n",
       "good       328\n",
       "normal    4233\n",
       "so bad     482\n",
       "Name: imdb_score, dtype: int64"
      ]
     },
     "execution_count": 3,
     "metadata": {},
     "output_type": "execute_result"
    }
   ],
   "source": [
    "import pandas as pd\n",
    "import numpy as np\n",
    "movie = pd.read_csv(\"https://bootrain-lms-assets.s3.eu-central-1.amazonaws.com/bootrain-lms-static/datasets/movie.csv\")\n",
    "\n",
    "movie.head()\n",
    "# `movie` dataset contains float64(13), int64(3), object(12)\n",
    "\n",
    "def make_categorical(imdb_score):\n",
    "    if imdb_score >= 8:\n",
    "        return 'good'\n",
    "    elif (imdb_score >= 5 ) and (imdb_score < 8):\n",
    "        return 'normal'\n",
    "    else:\n",
    "        return 'so bad'\n",
    "movie['imdb_scorecat'] = movie['imdb_score'].apply(make_categorical)\n",
    "movie.groupby('imdb_scorecat')['imdb_score'].count()"
   ]
  },
  {
   "cell_type": "markdown",
   "metadata": {},
   "source": [
    "**(3)** Is it possible to convert categorical variable into numerical one? If so, how can you make that?"
   ]
  },
  {
   "cell_type": "markdown",
   "metadata": {},
   "source": [
    "Yes it is possible. If we group categorical values and express it as numbers, it becomes a numerical value. "
   ]
  },
  {
   "cell_type": "code",
   "execution_count": 10,
   "metadata": {},
   "outputs": [
    {
     "data": {
      "text/plain": [
       "0       1\n",
       "1       1\n",
       "2       1\n",
       "3       1\n",
       "4       1\n",
       "       ..\n",
       "5038    1\n",
       "5039    1\n",
       "5040    1\n",
       "5041    1\n",
       "5042    1\n",
       "Name: num_color, Length: 5043, dtype: int64"
      ]
     },
     "execution_count": 10,
     "metadata": {},
     "output_type": "execute_result"
    }
   ],
   "source": [
    "def make_numerical(color):\n",
    "    if color==\"Black and White\":\n",
    "        return 0\n",
    "    else: \n",
    "        return 1\n",
    "movie[\"num_color\"]=movie[\"color\"].apply(make_numerical)\n",
    "movie[\"num_color\"]"
   ]
  },
  {
   "cell_type": "markdown",
   "metadata": {},
   "source": [
    "**(4)** While continuous data is generally preferred over discrete data, please indicate circumstances where discrete is the preferred data type although continuous data is available for the same characteristic."
   ]
  },
  {
   "cell_type": "markdown",
   "metadata": {},
   "source": [
    "General rule, if all possible different values are finite, then this variable can be considered as a discrete variable. However, this general rule does not always apply. Consider the example of age. Although possible different values of age are finite, in some cases it makes more sense to assess age as a continuous variable. So, some variables can be both discrete and continuous. We can give an example of age for continuous data type. They can be categorized as young, middle, elderly, or whether they are younger or older than 18."
   ]
  },
  {
   "cell_type": "markdown",
   "metadata": {},
   "source": [
    "**(5)** While continuous data is measured and attribute data is counted, there is sometimes confusion if some specific dataset should be considered continuous or attribute. Provide some examples of confusing datasets and your inference. "
   ]
  },
  {
   "cell_type": "markdown",
   "metadata": {},
   "source": [
    "This variable type is probably the most common data type you will come across when working with real-life datasets. Values such as speed, distance, weight, height, expenditure, salary etc. are some of the measurements that can be represented by continuous variables."
   ]
  }
 ],
 "metadata": {
  "kernelspec": {
   "display_name": "Python 3",
   "language": "python",
   "name": "python3"
  },
  "language_info": {
   "codemirror_mode": {
    "name": "ipython",
    "version": 3
   },
   "file_extension": ".py",
   "mimetype": "text/x-python",
   "name": "python",
   "nbconvert_exporter": "python",
   "pygments_lexer": "ipython3",
   "version": "3.7.6"
  }
 },
 "nbformat": 4,
 "nbformat_minor": 4
}
