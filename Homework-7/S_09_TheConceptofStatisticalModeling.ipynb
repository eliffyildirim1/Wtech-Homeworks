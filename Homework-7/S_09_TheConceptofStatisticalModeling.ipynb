{
 "cells": [
  {
   "cell_type": "markdown",
   "metadata": {},
   "source": [
    "# <font color=blue>Solutions for \"The Concept of Statistical Modeling\"</font>"
   ]
  },
  {
   "cell_type": "markdown",
   "metadata": {},
   "source": [
    "To complete this assignment, send the Github link of the Jupyter notebook file containing solutions to the following questions:"
   ]
  },
  {
   "cell_type": "markdown",
   "metadata": {},
   "source": [
    "**(1)** Try to model the result of throwing a coin. Include features in your model that you consider important when explaining the result. Discuss the pros and cons of adding too many features to your model with your mentor."
   ]
  },
  {
   "cell_type": "markdown",
   "metadata": {},
   "source": []
  },
  {
   "cell_type": "markdown",
   "metadata": {},
   "source": [
    "**(2)** If you have used Netflix before, you should have noticed that it offers some suggestions for you to watch. In data science, this is an example called referral systems. Read about Netflix's non-technical blog post about how they model their suggestion systems. Then derive the features they use in the referral engines and discuss any other features that can be included in this model.\n",
    "\n",
    "Discuss your arguments with your mentor."
   ]
  },
  {
   "cell_type": "markdown",
   "metadata": {},
   "source": []
  }
 ],
 "metadata": {
  "kernelspec": {
   "display_name": "Python 3",
   "language": "python",
   "name": "python3"
  },
  "language_info": {
   "codemirror_mode": {
    "name": "ipython",
    "version": 3
   },
   "file_extension": ".py",
   "mimetype": "text/x-python",
   "name": "python",
   "nbconvert_exporter": "python",
   "pygments_lexer": "ipython3",
   "version": "3.8.2"
  }
 },
 "nbformat": 4,
 "nbformat_minor": 4
}
